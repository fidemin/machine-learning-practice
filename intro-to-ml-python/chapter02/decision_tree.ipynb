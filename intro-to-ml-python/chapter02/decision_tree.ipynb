{
 "cells": [
  {
   "cell_type": "code",
   "execution_count": 1,
   "metadata": {},
   "outputs": [
    {
     "name": "stderr",
     "output_type": "stream",
     "text": [
      "/Users/yunhongmin/.pyenv/versions/3.7.4/envs/data-science/lib/python3.7/site-packages/sklearn/externals/six.py:31: DeprecationWarning: The module is deprecated in version 0.21 and will be removed in version 0.23 since we've dropped support for Python 2.7. Please rely on the official version of six (https://pypi.org/project/six/).\n",
      "  \"(https://pypi.org/project/six/).\", DeprecationWarning)\n",
      "/Users/yunhongmin/.pyenv/versions/3.7.4/envs/data-science/lib/python3.7/site-packages/sklearn/externals/joblib/__init__.py:15: DeprecationWarning: sklearn.externals.joblib is deprecated in 0.21 and will be removed in 0.23. Please import this functionality directly from joblib, which can be installed with: pip install joblib. If this warning is raised when loading pickled models, you may need to re-serialize those models with scikit-learn 0.21+.\n",
      "  warnings.warn(msg, category=DeprecationWarning)\n"
     ]
    }
   ],
   "source": [
    "import mglearn\n",
    "import matplotlib.pyplot as plt\n",
    "import numpy as np\n",
    "import mglearn"
   ]
  },
  {
   "cell_type": "code",
   "execution_count": 2,
   "metadata": {},
   "outputs": [
    {
     "data": {
      "image/png": "[encoded data removed]",
      "text/plain": [
       "<Figure size 432x288 with 1 Axes>"
      ]
     },
     "metadata": {
      "needs_background": "light"
     },
     "output_type": "display_data"
    }
   ],
   "source": [
    "mglearn.plots.plot_animal_tree()"
   ]
  },
  {
   "cell_type": "code",
   "execution_count": 3,
   "metadata": {},
   "outputs": [
    {
     "name": "stdout",
     "output_type": "stream",
     "text": [
      "Accuracy on training set: 1.000\n",
      "Accuracy on test set: 0.937\n"
     ]
    }
   ],
   "source": [
    "from sklearn.tree import DecisionTreeClassifier\n",
    "from sklearn.datasets import load_breast_cancer\n",
    "from sklearn.model_selection import train_test_split\n",
    "\n",
    "cancer = load_breast_cancer()\n",
    "X_train, X_test, y_train, y_test = train_test_split(\n",
    "    cancer.data, cancer.target, stratify=cancer.target, random_state=42)\n",
    "tree = DecisionTreeClassifier(random_state=0)\n",
    "tree.fit(X_train, y_train)\n",
    "print(\"Accuracy on training set: {:.3f}\".format(tree.score(X_train, y_train)))\n",
    "print(\"Accuracy on test set: {:.3f}\".format(tree.score(X_test, y_test)))"
   ]
  },
  {
   "cell_type": "code",
   "execution_count": 4,
   "metadata": {},
   "outputs": [
    {
     "name": "stdout",
     "output_type": "stream",
     "text": [
      "Accuracy on training set: 0.988\n",
      "Accuracy on test set: 0.951\n"
     ]
    }
   ],
   "source": [
    "tree = DecisionTreeClassifier(max_depth=4, random_state=0)\n",
    "tree.fit(X_train, y_train)\n",
    "\n",
    "print(\"Accuracy on training set: {:.3f}\".format(tree.score(X_train, y_train)))\n",
    "print(\"Accuracy on test set: {:.3f}\".format(tree.score(X_test, y_test)))"
   ]
  },
  {
   "cell_type": "code",
   "execution_count": 5,
   "metadata": {},
   "outputs": [
    {
     "data": {
      "image/svg+xml": [
       "<?xml version=\"1.0\" encoding=\"UTF-8\" standalone=\"no\"?>\n",
       "<!DOCTYPE svg PUBLIC \"-//W3C//DTD SVG 1.1//EN\"\n",
       " \"http://www.w3.org/Graphics/SVG/1.1/DTD/svg11.dtd\">\n",
       "<!-- Generated by graphviz version 2.40.1 (20161225.0304)\n",
       " -->\n",
       "<!-- Title: Tree Pages: 1 -->\n",
       "<svg width=\"1031pt\" height=\"458pt\"\n",
       " viewBox=\"0.00 0.00 1031.15 458.00\" xmlns=\"http://www.w3.org/2000/svg\" xmlns:xlink=\"http://www.w3.org/1999/xlink\">\n",
       "<g id=\"graph0\" class=\"graph\" transform=\"scale(1 1) rotate(0) translate(4 454)\">\n",
       "<title>Tree</title>\n",
       "<polygon fill=\"#ffffff\" stroke=\"transparent\" points=\"-4,4 -4,-454 1027.1543,-454 1027.1543,4 -4,4\"/>\n",
       "<!-- 0 -->\n",
       "<g id=\"node1\" class=\"node\">\n",
       "<title>0</title>\n",
       "<polygon fill=\"#afd7f4\" stroke=\"#000000\" points=\"641.2217,-450 494.9912,-450 494.9912,-386 641.2217,-386 641.2217,-450\"/>\n",
       "<text text-anchor=\"middle\" x=\"568.1064\" y=\"-434.8\" font-family=\"Times,serif\" font-size=\"14.00\" fill=\"#000000\">worst radius &lt;= 16.795</text>\n",
       "<text text-anchor=\"middle\" x=\"568.1064\" y=\"-420.8\" font-family=\"Times,serif\" font-size=\"14.00\" fill=\"#000000\">samples = 426</text>\n",
       "<text text-anchor=\"middle\" x=\"568.1064\" y=\"-406.8\" font-family=\"Times,serif\" font-size=\"14.00\" fill=\"#000000\">value = [159, 267]</text>\n",
       "<text text-anchor=\"middle\" x=\"568.1064\" y=\"-392.8\" font-family=\"Times,serif\" font-size=\"14.00\" fill=\"#000000\">class = benign</text>\n",
       "</g>\n",
       "<!-- 1 -->\n",
       "<g id=\"node2\" class=\"node\">\n",
       "<title>1</title>\n",
       "<polygon fill=\"#4ca6e8\" stroke=\"#000000\" points=\"551.5914,-350 362.6214,-350 362.6214,-286 551.5914,-286 551.5914,-350\"/>\n",
       "<text text-anchor=\"middle\" x=\"457.1064\" y=\"-334.8\" font-family=\"Times,serif\" font-size=\"14.00\" fill=\"#000000\">worst concave points &lt;= 0.136</text>\n",
       "<text text-anchor=\"middle\" x=\"457.1064\" y=\"-320.8\" font-family=\"Times,serif\" font-size=\"14.00\" fill=\"#000000\">samples = 284</text>\n",
       "<text text-anchor=\"middle\" x=\"457.1064\" y=\"-306.8\" font-family=\"Times,serif\" font-size=\"14.00\" fill=\"#000000\">value = [25, 259]</text>\n",
       "<text text-anchor=\"middle\" x=\"457.1064\" y=\"-292.8\" font-family=\"Times,serif\" font-size=\"14.00\" fill=\"#000000\">class = benign</text>\n",
       "</g>\n",
       "<!-- 0&#45;&gt;1 -->\n",
       "<g id=\"edge1\" class=\"edge\">\n",
       "<title>0&#45;&gt;1</title>\n",
       "<path fill=\"none\" stroke=\"#000000\" d=\"M532.3744,-385.8089C522.1747,-376.62 510.9504,-366.508 500.3534,-356.9612\"/>\n",
       "<polygon fill=\"#000000\" stroke=\"#000000\" points=\"502.5439,-354.2238 492.7716,-350.1308 497.8585,-359.4245 502.5439,-354.2238\"/>\n",
       "<text text-anchor=\"middle\" x=\"494.0731\" y=\"-370.8969\" font-family=\"Times,serif\" font-size=\"14.00\" fill=\"#000000\">True</text>\n",
       "</g>\n",
       "<!-- 14 -->\n",
       "<g id=\"node15\" class=\"node\">\n",
       "<title>14</title>\n",
       "<polygon fill=\"#e78945\" stroke=\"#000000\" points=\"719.9669,-350 580.246,-350 580.246,-286 719.9669,-286 719.9669,-350\"/>\n",
       "<text text-anchor=\"middle\" x=\"650.1064\" y=\"-334.8\" font-family=\"Times,serif\" font-size=\"14.00\" fill=\"#000000\">texture error &lt;= 0.473</text>\n",
       "<text text-anchor=\"middle\" x=\"650.1064\" y=\"-320.8\" font-family=\"Times,serif\" font-size=\"14.00\" fill=\"#000000\">samples = 142</text>\n",
       "<text text-anchor=\"middle\" x=\"650.1064\" y=\"-306.8\" font-family=\"Times,serif\" font-size=\"14.00\" fill=\"#000000\">value = [134, 8]</text>\n",
       "<text text-anchor=\"middle\" x=\"650.1064\" y=\"-292.8\" font-family=\"Times,serif\" font-size=\"14.00\" fill=\"#000000\">class = malignant</text>\n",
       "</g>\n",
       "<!-- 0&#45;&gt;14 -->\n",
       "<g id=\"edge14\" class=\"edge\">\n",
       "<title>0&#45;&gt;14</title>\n",
       "<path fill=\"none\" stroke=\"#000000\" d=\"M594.5031,-385.8089C601.7454,-376.9769 609.687,-367.2921 617.2442,-358.0759\"/>\n",
       "<polygon fill=\"#000000\" stroke=\"#000000\" points=\"620.1248,-360.0828 623.7592,-350.1308 614.7119,-355.6442 620.1248,-360.0828\"/>\n",
       "<text text-anchor=\"middle\" x=\"626.2197\" y=\"-370.8094\" font-family=\"Times,serif\" font-size=\"14.00\" fill=\"#000000\">False</text>\n",
       "</g>\n",
       "<!-- 2 -->\n",
       "<g id=\"node3\" class=\"node\">\n",
       "<title>2</title>\n",
       "<polygon fill=\"#3c9fe5\" stroke=\"#000000\" points=\"354.8117,-250 219.4012,-250 219.4012,-186 354.8117,-186 354.8117,-250\"/>\n",
       "<text text-anchor=\"middle\" x=\"287.1064\" y=\"-234.8\" font-family=\"Times,serif\" font-size=\"14.00\" fill=\"#000000\">radius error &lt;= 1.048</text>\n",
       "<text text-anchor=\"middle\" x=\"287.1064\" y=\"-220.8\" font-family=\"Times,serif\" font-size=\"14.00\" fill=\"#000000\">samples = 252</text>\n",
       "<text text-anchor=\"middle\" x=\"287.1064\" y=\"-206.8\" font-family=\"Times,serif\" font-size=\"14.00\" fill=\"#000000\">value = [4, 248]</text>\n",
       "<text text-anchor=\"middle\" x=\"287.1064\" y=\"-192.8\" font-family=\"Times,serif\" font-size=\"14.00\" fill=\"#000000\">class = benign</text>\n",
       "</g>\n",
       "<!-- 1&#45;&gt;2 -->\n",
       "<g id=\"edge2\" class=\"edge\">\n",
       "<title>1&#45;&gt;2</title>\n",
       "<path fill=\"none\" stroke=\"#000000\" d=\"M402.3816,-285.8089C385.8505,-276.0848 367.562,-265.3268 350.5145,-255.2989\"/>\n",
       "<polygon fill=\"#000000\" stroke=\"#000000\" points=\"352.1227,-252.1842 341.7287,-250.1308 348.5735,-258.2178 352.1227,-252.1842\"/>\n",
       "</g>\n",
       "<!-- 7 -->\n",
       "<g id=\"node8\" class=\"node\">\n",
       "<title>7</title>\n",
       "<polygon fill=\"#f3c3a1\" stroke=\"#000000\" points=\"528.8771,-250 385.3358,-250 385.3358,-186 528.8771,-186 528.8771,-250\"/>\n",
       "<text text-anchor=\"middle\" x=\"457.1064\" y=\"-234.8\" font-family=\"Times,serif\" font-size=\"14.00\" fill=\"#000000\">worst texture &lt;= 25.62</text>\n",
       "<text text-anchor=\"middle\" x=\"457.1064\" y=\"-220.8\" font-family=\"Times,serif\" font-size=\"14.00\" fill=\"#000000\">samples = 32</text>\n",
       "<text text-anchor=\"middle\" x=\"457.1064\" y=\"-206.8\" font-family=\"Times,serif\" font-size=\"14.00\" fill=\"#000000\">value = [21, 11]</text>\n",
       "<text text-anchor=\"middle\" x=\"457.1064\" y=\"-192.8\" font-family=\"Times,serif\" font-size=\"14.00\" fill=\"#000000\">class = malignant</text>\n",
       "</g>\n",
       "<!-- 1&#45;&gt;7 -->\n",
       "<g id=\"edge7\" class=\"edge\">\n",
       "<title>1&#45;&gt;7</title>\n",
       "<path fill=\"none\" stroke=\"#000000\" d=\"M457.1064,-285.8089C457.1064,-277.6906 457.1064,-268.8517 457.1064,-260.3186\"/>\n",
       "<polygon fill=\"#000000\" stroke=\"#000000\" points=\"460.6065,-260.1307 457.1064,-250.1308 453.6065,-260.1308 460.6065,-260.1307\"/>\n",
       "</g>\n",
       "<!-- 3 -->\n",
       "<g id=\"node4\" class=\"node\">\n",
       "<title>3</title>\n",
       "<polygon fill=\"#3b9ee5\" stroke=\"#000000\" points=\"212.4359,-150 45.777,-150 45.777,-86 212.4359,-86 212.4359,-150\"/>\n",
       "<text text-anchor=\"middle\" x=\"129.1064\" y=\"-134.8\" font-family=\"Times,serif\" font-size=\"14.00\" fill=\"#000000\">smoothness error &lt;= 0.003</text>\n",
       "<text text-anchor=\"middle\" x=\"129.1064\" y=\"-120.8\" font-family=\"Times,serif\" font-size=\"14.00\" fill=\"#000000\">samples = 251</text>\n",
       "<text text-anchor=\"middle\" x=\"129.1064\" y=\"-106.8\" font-family=\"Times,serif\" font-size=\"14.00\" fill=\"#000000\">value = [3, 248]</text>\n",
       "<text text-anchor=\"middle\" x=\"129.1064\" y=\"-92.8\" font-family=\"Times,serif\" font-size=\"14.00\" fill=\"#000000\">class = benign</text>\n",
       "</g>\n",
       "<!-- 2&#45;&gt;3 -->\n",
       "<g id=\"edge3\" class=\"edge\">\n",
       "<title>2&#45;&gt;3</title>\n",
       "<path fill=\"none\" stroke=\"#000000\" d=\"M236.2445,-185.8089C221.0213,-176.174 204.1946,-165.5241 188.475,-155.575\"/>\n",
       "<polygon fill=\"#000000\" stroke=\"#000000\" points=\"190.1947,-152.5213 179.873,-150.1308 186.4511,-158.4362 190.1947,-152.5213\"/>\n",
       "</g>\n",
       "<!-- 6 -->\n",
       "<g id=\"node7\" class=\"node\">\n",
       "<title>6</title>\n",
       "<polygon fill=\"#e58139\" stroke=\"#000000\" points=\"344.2022,-143 230.0107,-143 230.0107,-93 344.2022,-93 344.2022,-143\"/>\n",
       "<text text-anchor=\"middle\" x=\"287.1064\" y=\"-127.8\" font-family=\"Times,serif\" font-size=\"14.00\" fill=\"#000000\">samples = 1</text>\n",
       "<text text-anchor=\"middle\" x=\"287.1064\" y=\"-113.8\" font-family=\"Times,serif\" font-size=\"14.00\" fill=\"#000000\">value = [1, 0]</text>\n",
       "<text text-anchor=\"middle\" x=\"287.1064\" y=\"-99.8\" font-family=\"Times,serif\" font-size=\"14.00\" fill=\"#000000\">class = malignant</text>\n",
       "</g>\n",
       "<!-- 2&#45;&gt;6 -->\n",
       "<g id=\"edge6\" class=\"edge\">\n",
       "<title>2&#45;&gt;6</title>\n",
       "<path fill=\"none\" stroke=\"#000000\" d=\"M287.1064,-185.8089C287.1064,-175.446 287.1064,-163.909 287.1064,-153.3327\"/>\n",
       "<polygon fill=\"#000000\" stroke=\"#000000\" points=\"290.6065,-153.1555 287.1064,-143.1555 283.6065,-153.1556 290.6065,-153.1555\"/>\n",
       "</g>\n",
       "<!-- 4 -->\n",
       "<g id=\"node5\" class=\"node\">\n",
       "<title>4</title>\n",
       "<polygon fill=\"#7bbeee\" stroke=\"#000000\" points=\"96.3196,-50 -.1067,-50 -.1067,0 96.3196,0 96.3196,-50\"/>\n",
       "<text text-anchor=\"middle\" x=\"48.1064\" y=\"-34.8\" font-family=\"Times,serif\" font-size=\"14.00\" fill=\"#000000\">samples = 4</text>\n",
       "<text text-anchor=\"middle\" x=\"48.1064\" y=\"-20.8\" font-family=\"Times,serif\" font-size=\"14.00\" fill=\"#000000\">value = [1, 3]</text>\n",
       "<text text-anchor=\"middle\" x=\"48.1064\" y=\"-6.8\" font-family=\"Times,serif\" font-size=\"14.00\" fill=\"#000000\">class = benign</text>\n",
       "</g>\n",
       "<!-- 3&#45;&gt;4 -->\n",
       "<g id=\"edge4\" class=\"edge\">\n",
       "<title>3&#45;&gt;4</title>\n",
       "<path fill=\"none\" stroke=\"#000000\" d=\"M101.2308,-85.9947C93.3025,-76.8917 84.6569,-66.9654 76.6874,-57.8152\"/>\n",
       "<polygon fill=\"#000000\" stroke=\"#000000\" points=\"79.1,-55.2561 69.8929,-50.014 73.8214,-59.8536 79.1,-55.2561\"/>\n",
       "</g>\n",
       "<!-- 5 -->\n",
       "<g id=\"node6\" class=\"node\">\n",
       "<title>5</title>\n",
       "<polygon fill=\"#3b9ee5\" stroke=\"#000000\" points=\"219.6446,-50 114.5683,-50 114.5683,0 219.6446,0 219.6446,-50\"/>\n",
       "<text text-anchor=\"middle\" x=\"167.1064\" y=\"-34.8\" font-family=\"Times,serif\" font-size=\"14.00\" fill=\"#000000\">samples = 247</text>\n",
       "<text text-anchor=\"middle\" x=\"167.1064\" y=\"-20.8\" font-family=\"Times,serif\" font-size=\"14.00\" fill=\"#000000\">value = [2, 245]</text>\n",
       "<text text-anchor=\"middle\" x=\"167.1064\" y=\"-6.8\" font-family=\"Times,serif\" font-size=\"14.00\" fill=\"#000000\">class = benign</text>\n",
       "</g>\n",
       "<!-- 3&#45;&gt;5 -->\n",
       "<g id=\"edge5\" class=\"edge\">\n",
       "<title>3&#45;&gt;5</title>\n",
       "<path fill=\"none\" stroke=\"#000000\" d=\"M142.1839,-85.9947C145.6779,-77.4434 149.4689,-68.1656 153.015,-59.487\"/>\n",
       "<polygon fill=\"#000000\" stroke=\"#000000\" points=\"156.3431,-60.595 156.8857,-50.014 149.8632,-57.9472 156.3431,-60.595\"/>\n",
       "</g>\n",
       "<!-- 8 -->\n",
       "<g id=\"node9\" class=\"node\">\n",
       "<title>8</title>\n",
       "<polygon fill=\"#7bbeee\" stroke=\"#000000\" points=\"532.3459,-150 361.867,-150 361.867,-86 532.3459,-86 532.3459,-150\"/>\n",
       "<text text-anchor=\"middle\" x=\"447.1064\" y=\"-134.8\" font-family=\"Times,serif\" font-size=\"14.00\" fill=\"#000000\">worst smoothness &lt;= 0.179</text>\n",
       "<text text-anchor=\"middle\" x=\"447.1064\" y=\"-120.8\" font-family=\"Times,serif\" font-size=\"14.00\" fill=\"#000000\">samples = 12</text>\n",
       "<text text-anchor=\"middle\" x=\"447.1064\" y=\"-106.8\" font-family=\"Times,serif\" font-size=\"14.00\" fill=\"#000000\">value = [3, 9]</text>\n",
       "<text text-anchor=\"middle\" x=\"447.1064\" y=\"-92.8\" font-family=\"Times,serif\" font-size=\"14.00\" fill=\"#000000\">class = benign</text>\n",
       "</g>\n",
       "<!-- 7&#45;&gt;8 -->\n",
       "<g id=\"edge8\" class=\"edge\">\n",
       "<title>7&#45;&gt;8</title>\n",
       "<path fill=\"none\" stroke=\"#000000\" d=\"M453.8873,-185.8089C453.0755,-177.6906 452.1916,-168.8517 451.3383,-160.3186\"/>\n",
       "<polygon fill=\"#000000\" stroke=\"#000000\" points=\"454.7973,-159.7328 450.3195,-150.1308 447.832,-160.4294 454.7973,-159.7328\"/>\n",
       "</g>\n",
       "<!-- 11 -->\n",
       "<g id=\"node12\" class=\"node\">\n",
       "<title>11</title>\n",
       "<polygon fill=\"#e88f4f\" stroke=\"#000000\" points=\"711.501,-150 550.7119,-150 550.7119,-86 711.501,-86 711.501,-150\"/>\n",
       "<text text-anchor=\"middle\" x=\"631.1064\" y=\"-134.8\" font-family=\"Times,serif\" font-size=\"14.00\" fill=\"#000000\">worst symmetry &lt;= 0.268</text>\n",
       "<text text-anchor=\"middle\" x=\"631.1064\" y=\"-120.8\" font-family=\"Times,serif\" font-size=\"14.00\" fill=\"#000000\">samples = 20</text>\n",
       "<text text-anchor=\"middle\" x=\"631.1064\" y=\"-106.8\" font-family=\"Times,serif\" font-size=\"14.00\" fill=\"#000000\">value = [18, 2]</text>\n",
       "<text text-anchor=\"middle\" x=\"631.1064\" y=\"-92.8\" font-family=\"Times,serif\" font-size=\"14.00\" fill=\"#000000\">class = malignant</text>\n",
       "</g>\n",
       "<!-- 7&#45;&gt;11 -->\n",
       "<g id=\"edge11\" class=\"edge\">\n",
       "<title>7&#45;&gt;11</title>\n",
       "<path fill=\"none\" stroke=\"#000000\" d=\"M513.1189,-185.8089C530.039,-176.0848 548.7578,-165.3268 566.2064,-155.2989\"/>\n",
       "<polygon fill=\"#000000\" stroke=\"#000000\" points=\"568.2728,-158.1482 575.1989,-150.1308 564.7848,-152.0791 568.2728,-158.1482\"/>\n",
       "</g>\n",
       "<!-- 9 -->\n",
       "<g id=\"node10\" class=\"node\">\n",
       "<title>9</title>\n",
       "<polygon fill=\"#4fa8e8\" stroke=\"#000000\" points=\"372.3196,-50 275.8933,-50 275.8933,0 372.3196,0 372.3196,-50\"/>\n",
       "<text text-anchor=\"middle\" x=\"324.1064\" y=\"-34.8\" font-family=\"Times,serif\" font-size=\"14.00\" fill=\"#000000\">samples = 10</text>\n",
       "<text text-anchor=\"middle\" x=\"324.1064\" y=\"-20.8\" font-family=\"Times,serif\" font-size=\"14.00\" fill=\"#000000\">value = [1, 9]</text>\n",
       "<text text-anchor=\"middle\" x=\"324.1064\" y=\"-6.8\" font-family=\"Times,serif\" font-size=\"14.00\" fill=\"#000000\">class = benign</text>\n",
       "</g>\n",
       "<!-- 8&#45;&gt;9 -->\n",
       "<g id=\"edge9\" class=\"edge\">\n",
       "<title>8&#45;&gt;9</title>\n",
       "<path fill=\"none\" stroke=\"#000000\" d=\"M404.7768,-85.9947C392.0078,-76.3401 378.0137,-65.7592 365.3186,-56.1604\"/>\n",
       "<polygon fill=\"#000000\" stroke=\"#000000\" points=\"367.277,-53.2533 357.1895,-50.014 363.0552,-58.837 367.277,-53.2533\"/>\n",
       "</g>\n",
       "<!-- 10 -->\n",
       "<g id=\"node11\" class=\"node\">\n",
       "<title>10</title>\n",
       "<polygon fill=\"#e58139\" stroke=\"#000000\" points=\"504.2022,-50 390.0107,-50 390.0107,0 504.2022,0 504.2022,-50\"/>\n",
       "<text text-anchor=\"middle\" x=\"447.1064\" y=\"-34.8\" font-family=\"Times,serif\" font-size=\"14.00\" fill=\"#000000\">samples = 2</text>\n",
       "<text text-anchor=\"middle\" x=\"447.1064\" y=\"-20.8\" font-family=\"Times,serif\" font-size=\"14.00\" fill=\"#000000\">value = [2, 0]</text>\n",
       "<text text-anchor=\"middle\" x=\"447.1064\" y=\"-6.8\" font-family=\"Times,serif\" font-size=\"14.00\" fill=\"#000000\">class = malignant</text>\n",
       "</g>\n",
       "<!-- 8&#45;&gt;10 -->\n",
       "<g id=\"edge10\" class=\"edge\">\n",
       "<title>8&#45;&gt;10</title>\n",
       "<path fill=\"none\" stroke=\"#000000\" d=\"M447.1064,-85.9947C447.1064,-77.6273 447.1064,-68.5643 447.1064,-60.0478\"/>\n",
       "<polygon fill=\"#000000\" stroke=\"#000000\" points=\"450.6065,-60.014 447.1064,-50.014 443.6065,-60.0141 450.6065,-60.014\"/>\n",
       "</g>\n",
       "<!-- 12 -->\n",
       "<g id=\"node13\" class=\"node\">\n",
       "<title>12</title>\n",
       "<polygon fill=\"#9ccef2\" stroke=\"#000000\" points=\"618.3196,-50 521.8933,-50 521.8933,0 618.3196,0 618.3196,-50\"/>\n",
       "<text text-anchor=\"middle\" x=\"570.1064\" y=\"-34.8\" font-family=\"Times,serif\" font-size=\"14.00\" fill=\"#000000\">samples = 3</text>\n",
       "<text text-anchor=\"middle\" x=\"570.1064\" y=\"-20.8\" font-family=\"Times,serif\" font-size=\"14.00\" fill=\"#000000\">value = [1, 2]</text>\n",
       "<text text-anchor=\"middle\" x=\"570.1064\" y=\"-6.8\" font-family=\"Times,serif\" font-size=\"14.00\" fill=\"#000000\">class = benign</text>\n",
       "</g>\n",
       "<!-- 11&#45;&gt;12 -->\n",
       "<g id=\"edge12\" class=\"edge\">\n",
       "<title>11&#45;&gt;12</title>\n",
       "<path fill=\"none\" stroke=\"#000000\" d=\"M610.1137,-85.9947C604.3239,-77.1676 598.0262,-67.5662 592.1774,-58.6491\"/>\n",
       "<polygon fill=\"#000000\" stroke=\"#000000\" points=\"594.9248,-56.4562 586.5135,-50.014 589.0715,-60.2954 594.9248,-56.4562\"/>\n",
       "</g>\n",
       "<!-- 13 -->\n",
       "<g id=\"node14\" class=\"node\">\n",
       "<title>13</title>\n",
       "<polygon fill=\"#e58139\" stroke=\"#000000\" points=\"750.2022,-50 636.0107,-50 636.0107,0 750.2022,0 750.2022,-50\"/>\n",
       "<text text-anchor=\"middle\" x=\"693.1064\" y=\"-34.8\" font-family=\"Times,serif\" font-size=\"14.00\" fill=\"#000000\">samples = 17</text>\n",
       "<text text-anchor=\"middle\" x=\"693.1064\" y=\"-20.8\" font-family=\"Times,serif\" font-size=\"14.00\" fill=\"#000000\">value = [17, 0]</text>\n",
       "<text text-anchor=\"middle\" x=\"693.1064\" y=\"-6.8\" font-family=\"Times,serif\" font-size=\"14.00\" fill=\"#000000\">class = malignant</text>\n",
       "</g>\n",
       "<!-- 11&#45;&gt;13 -->\n",
       "<g id=\"edge13\" class=\"edge\">\n",
       "<title>11&#45;&gt;13</title>\n",
       "<path fill=\"none\" stroke=\"#000000\" d=\"M652.4433,-85.9947C658.3893,-77.0756 664.8624,-67.3661 670.8593,-58.3706\"/>\n",
       "<polygon fill=\"#000000\" stroke=\"#000000\" points=\"673.7956,-60.276 676.4304,-50.014 667.9712,-56.3931 673.7956,-60.276\"/>\n",
       "</g>\n",
       "<!-- 15 -->\n",
       "<g id=\"node16\" class=\"node\">\n",
       "<title>15</title>\n",
       "<polygon fill=\"#399de5\" stroke=\"#000000\" points=\"698.3196,-243 601.8933,-243 601.8933,-193 698.3196,-193 698.3196,-243\"/>\n",
       "<text text-anchor=\"middle\" x=\"650.1064\" y=\"-227.8\" font-family=\"Times,serif\" font-size=\"14.00\" fill=\"#000000\">samples = 5</text>\n",
       "<text text-anchor=\"middle\" x=\"650.1064\" y=\"-213.8\" font-family=\"Times,serif\" font-size=\"14.00\" fill=\"#000000\">value = [0, 5]</text>\n",
       "<text text-anchor=\"middle\" x=\"650.1064\" y=\"-199.8\" font-family=\"Times,serif\" font-size=\"14.00\" fill=\"#000000\">class = benign</text>\n",
       "</g>\n",
       "<!-- 14&#45;&gt;15 -->\n",
       "<g id=\"edge15\" class=\"edge\">\n",
       "<title>14&#45;&gt;15</title>\n",
       "<path fill=\"none\" stroke=\"#000000\" d=\"M650.1064,-285.8089C650.1064,-275.446 650.1064,-263.909 650.1064,-253.3327\"/>\n",
       "<polygon fill=\"#000000\" stroke=\"#000000\" points=\"653.6065,-253.1555 650.1064,-243.1555 646.6065,-253.1556 653.6065,-253.1555\"/>\n",
       "</g>\n",
       "<!-- 16 -->\n",
       "<g id=\"node17\" class=\"node\">\n",
       "<title>16</title>\n",
       "<polygon fill=\"#e6843d\" stroke=\"#000000\" points=\"895.929,-250 736.2839,-250 736.2839,-186 895.929,-186 895.929,-250\"/>\n",
       "<text text-anchor=\"middle\" x=\"816.1064\" y=\"-234.8\" font-family=\"Times,serif\" font-size=\"14.00\" fill=\"#000000\">worst concavity &lt;= 0.191</text>\n",
       "<text text-anchor=\"middle\" x=\"816.1064\" y=\"-220.8\" font-family=\"Times,serif\" font-size=\"14.00\" fill=\"#000000\">samples = 137</text>\n",
       "<text text-anchor=\"middle\" x=\"816.1064\" y=\"-206.8\" font-family=\"Times,serif\" font-size=\"14.00\" fill=\"#000000\">value = [134, 3]</text>\n",
       "<text text-anchor=\"middle\" x=\"816.1064\" y=\"-192.8\" font-family=\"Times,serif\" font-size=\"14.00\" fill=\"#000000\">class = malignant</text>\n",
       "</g>\n",
       "<!-- 14&#45;&gt;16 -->\n",
       "<g id=\"edge16\" class=\"edge\">\n",
       "<title>14&#45;&gt;16</title>\n",
       "<path fill=\"none\" stroke=\"#000000\" d=\"M703.5436,-285.8089C719.6858,-276.0848 737.5439,-265.3268 754.1903,-255.2989\"/>\n",
       "<polygon fill=\"#000000\" stroke=\"#000000\" points=\"756.0096,-258.289 762.7694,-250.1308 752.3975,-252.2929 756.0096,-258.289\"/>\n",
       "</g>\n",
       "<!-- 17 -->\n",
       "<g id=\"node18\" class=\"node\">\n",
       "<title>17</title>\n",
       "<polygon fill=\"#bddef6\" stroke=\"#000000\" points=\"891.3771,-150 740.8358,-150 740.8358,-86 891.3771,-86 891.3771,-150\"/>\n",
       "<text text-anchor=\"middle\" x=\"816.1064\" y=\"-134.8\" font-family=\"Times,serif\" font-size=\"14.00\" fill=\"#000000\">worst texture &lt;= 30.975</text>\n",
       "<text text-anchor=\"middle\" x=\"816.1064\" y=\"-120.8\" font-family=\"Times,serif\" font-size=\"14.00\" fill=\"#000000\">samples = 5</text>\n",
       "<text text-anchor=\"middle\" x=\"816.1064\" y=\"-106.8\" font-family=\"Times,serif\" font-size=\"14.00\" fill=\"#000000\">value = [2, 3]</text>\n",
       "<text text-anchor=\"middle\" x=\"816.1064\" y=\"-92.8\" font-family=\"Times,serif\" font-size=\"14.00\" fill=\"#000000\">class = benign</text>\n",
       "</g>\n",
       "<!-- 16&#45;&gt;17 -->\n",
       "<g id=\"edge17\" class=\"edge\">\n",
       "<title>16&#45;&gt;17</title>\n",
       "<path fill=\"none\" stroke=\"#000000\" d=\"M816.1064,-185.8089C816.1064,-177.6906 816.1064,-168.8517 816.1064,-160.3186\"/>\n",
       "<polygon fill=\"#000000\" stroke=\"#000000\" points=\"819.6065,-160.1307 816.1064,-150.1308 812.6065,-160.1308 819.6065,-160.1307\"/>\n",
       "</g>\n",
       "<!-- 20 -->\n",
       "<g id=\"node21\" class=\"node\">\n",
       "<title>20</title>\n",
       "<polygon fill=\"#e58139\" stroke=\"#000000\" points=\"1023.2022,-143 909.0107,-143 909.0107,-93 1023.2022,-93 1023.2022,-143\"/>\n",
       "<text text-anchor=\"middle\" x=\"966.1064\" y=\"-127.8\" font-family=\"Times,serif\" font-size=\"14.00\" fill=\"#000000\">samples = 132</text>\n",
       "<text text-anchor=\"middle\" x=\"966.1064\" y=\"-113.8\" font-family=\"Times,serif\" font-size=\"14.00\" fill=\"#000000\">value = [132, 0]</text>\n",
       "<text text-anchor=\"middle\" x=\"966.1064\" y=\"-99.8\" font-family=\"Times,serif\" font-size=\"14.00\" fill=\"#000000\">class = malignant</text>\n",
       "</g>\n",
       "<!-- 16&#45;&gt;20 -->\n",
       "<g id=\"edge20\" class=\"edge\">\n",
       "<title>16&#45;&gt;20</title>\n",
       "<path fill=\"none\" stroke=\"#000000\" d=\"M864.3931,-185.8089C882.2043,-173.9347 902.3278,-160.5191 919.9463,-148.7734\"/>\n",
       "<polygon fill=\"#000000\" stroke=\"#000000\" points=\"921.9941,-151.6148 928.3731,-143.1555 918.1111,-145.7904 921.9941,-151.6148\"/>\n",
       "</g>\n",
       "<!-- 18 -->\n",
       "<g id=\"node19\" class=\"node\">\n",
       "<title>18</title>\n",
       "<polygon fill=\"#399de5\" stroke=\"#000000\" points=\"864.3196,-50 767.8933,-50 767.8933,0 864.3196,0 864.3196,-50\"/>\n",
       "<text text-anchor=\"middle\" x=\"816.1064\" y=\"-34.8\" font-family=\"Times,serif\" font-size=\"14.00\" fill=\"#000000\">samples = 3</text>\n",
       "<text text-anchor=\"middle\" x=\"816.1064\" y=\"-20.8\" font-family=\"Times,serif\" font-size=\"14.00\" fill=\"#000000\">value = [0, 3]</text>\n",
       "<text text-anchor=\"middle\" x=\"816.1064\" y=\"-6.8\" font-family=\"Times,serif\" font-size=\"14.00\" fill=\"#000000\">class = benign</text>\n",
       "</g>\n",
       "<!-- 17&#45;&gt;18 -->\n",
       "<g id=\"edge18\" class=\"edge\">\n",
       "<title>17&#45;&gt;18</title>\n",
       "<path fill=\"none\" stroke=\"#000000\" d=\"M816.1064,-85.9947C816.1064,-77.6273 816.1064,-68.5643 816.1064,-60.0478\"/>\n",
       "<polygon fill=\"#000000\" stroke=\"#000000\" points=\"819.6065,-60.014 816.1064,-50.014 812.6065,-60.0141 819.6065,-60.014\"/>\n",
       "</g>\n",
       "<!-- 19 -->\n",
       "<g id=\"node20\" class=\"node\">\n",
       "<title>19</title>\n",
       "<polygon fill=\"#e58139\" stroke=\"#000000\" points=\"996.2022,-50 882.0107,-50 882.0107,0 996.2022,0 996.2022,-50\"/>\n",
       "<text text-anchor=\"middle\" x=\"939.1064\" y=\"-34.8\" font-family=\"Times,serif\" font-size=\"14.00\" fill=\"#000000\">samples = 2</text>\n",
       "<text text-anchor=\"middle\" x=\"939.1064\" y=\"-20.8\" font-family=\"Times,serif\" font-size=\"14.00\" fill=\"#000000\">value = [2, 0]</text>\n",
       "<text text-anchor=\"middle\" x=\"939.1064\" y=\"-6.8\" font-family=\"Times,serif\" font-size=\"14.00\" fill=\"#000000\">class = malignant</text>\n",
       "</g>\n",
       "<!-- 17&#45;&gt;19 -->\n",
       "<g id=\"edge19\" class=\"edge\">\n",
       "<title>17&#45;&gt;19</title>\n",
       "<path fill=\"none\" stroke=\"#000000\" d=\"M858.4361,-85.9947C871.2051,-76.3401 885.1992,-65.7592 897.8943,-56.1604\"/>\n",
       "<polygon fill=\"#000000\" stroke=\"#000000\" points=\"900.1577,-58.837 906.0234,-50.014 895.9359,-53.2533 900.1577,-58.837\"/>\n",
       "</g>\n",
       "</g>\n",
       "</svg>\n"
      ],
      "text/plain": [
       "<graphviz.files.Source at 0x11af76750>"
      ]
     },
     "execution_count": 5,
     "metadata": {},
     "output_type": "execute_result"
    }
   ],
   "source": [
    "from sklearn.tree import export_graphviz\n",
    "export_graphviz(tree, out_file=\"tree.dot\", class_names=[\"malignant\", \"benign\"], feature_names=cancer.feature_names,\n",
    "               impurity=False, filled=True)\n",
    "import graphviz\n",
    "with open(\"tree.dot\") as f:\n",
    "    dot_graph = f.read()\n",
    "    \n",
    "graphviz.Source(dot_graph)"
   ]
  },
  {
   "cell_type": "code",
   "execution_count": 6,
   "metadata": {},
   "outputs": [
    {
     "name": "stdout",
     "output_type": "stream",
     "text": [
      "Feature importances:\n",
      "[0.         0.         0.         0.         0.         0.\n",
      " 0.         0.         0.         0.         0.01019737 0.04839825\n",
      " 0.         0.         0.0024156  0.         0.         0.\n",
      " 0.         0.         0.72682851 0.0458159  0.         0.\n",
      " 0.0141577  0.         0.018188   0.1221132  0.01188548 0.        ]\n"
     ]
    }
   ],
   "source": [
    "print(\"Feature importances:\\n{}\".format(tree.feature_importances_))"
   ]
  },
  {
   "cell_type": "code",
   "execution_count": 7,
   "metadata": {},
   "outputs": [
    {
     "data": {
      "image/png": "[encoded data removed]",
      "text/plain": [
       "<Figure size 432x288 with 1 Axes>"
      ]
     },
     "metadata": {
      "needs_background": "light"
     },
     "output_type": "display_data"
    }
   ],
   "source": [
    "def plot_feature_importances_cancer(model):\n",
    "    n_features = cancer.data.shape[1]\n",
    "    plt.barh(range(n_features), model.feature_importances_, align='center')\n",
    "    plt.yticks(np.arange(n_features), cancer.feature_names)\n",
    "    plt.xlabel(\"Feature importance\")\n",
    "    plt.ylabel(\"Feature\")\n",
    "plot_feature_importances_cancer(tree)"
   ]
  },
  {
   "cell_type": "code",
   "execution_count": 8,
   "metadata": {},
   "outputs": [
    {
     "name": "stdout",
     "output_type": "stream",
     "text": [
      "Feature importances: [0. 1.]\n"
     ]
    },
    {
     "data": {
      "image/svg+xml": [
       "<?xml version=\"1.0\" encoding=\"UTF-8\" standalone=\"no\"?>\n",
       "<!DOCTYPE svg PUBLIC \"-//W3C//DTD SVG 1.1//EN\"\n",
       " \"http://www.w3.org/Graphics/SVG/1.1/DTD/svg11.dtd\">\n",
       "<!-- Generated by graphviz version 2.40.1 (20161225.0304)\n",
       " -->\n",
       "<!-- Title: Tree Pages: 1 -->\n",
       "<svg width=\"285pt\" height=\"216pt\"\n",
       " viewBox=\"0.00 0.00 284.54 216.00\" xmlns=\"http://www.w3.org/2000/svg\" xmlns:xlink=\"http://www.w3.org/1999/xlink\">\n",
       "<g id=\"graph0\" class=\"graph\" transform=\"scale(1 1) rotate(0) translate(4 212)\">\n",
       "<title>Tree</title>\n",
       "<polygon fill=\"#ffffff\" stroke=\"transparent\" points=\"-4,4 -4,-212 280.5371,-212 280.5371,4 -4,4\"/>\n",
       "<!-- 0 -->\n",
       "<g id=\"node1\" class=\"node\">\n",
       "<title>0</title>\n",
       "<polygon fill=\"#ffffff\" stroke=\"#000000\" points=\"161.8067,-208 56.7304,-208 56.7304,-158 161.8067,-158 161.8067,-208\"/>\n",
       "<text text-anchor=\"middle\" x=\"109.2686\" y=\"-192.8\" font-family=\"Times,serif\" font-size=\"14.00\" fill=\"#000000\">X[1] &lt;= &#45;5.814</text>\n",
       "<text text-anchor=\"middle\" x=\"109.2686\" y=\"-178.8\" font-family=\"Times,serif\" font-size=\"14.00\" fill=\"#000000\">samples = 100</text>\n",
       "<text text-anchor=\"middle\" x=\"109.2686\" y=\"-164.8\" font-family=\"Times,serif\" font-size=\"14.00\" fill=\"#000000\">value = [50, 50]</text>\n",
       "</g>\n",
       "<!-- 1 -->\n",
       "<g id=\"node2\" class=\"node\">\n",
       "<title>1</title>\n",
       "<polygon fill=\"#e58139\" stroke=\"#000000\" points=\"98.3067,-115 .2304,-115 .2304,-79 98.3067,-79 98.3067,-115\"/>\n",
       "<text text-anchor=\"middle\" x=\"49.2686\" y=\"-99.8\" font-family=\"Times,serif\" font-size=\"14.00\" fill=\"#000000\">samples = 25</text>\n",
       "<text text-anchor=\"middle\" x=\"49.2686\" y=\"-85.8\" font-family=\"Times,serif\" font-size=\"14.00\" fill=\"#000000\">value = [25, 0]</text>\n",
       "</g>\n",
       "<!-- 0&#45;&gt;1 -->\n",
       "<g id=\"edge1\" class=\"edge\">\n",
       "<title>0&#45;&gt;1</title>\n",
       "<path fill=\"none\" stroke=\"#000000\" d=\"M91.5911,-157.6623C84.063,-146.872 75.2818,-134.2857 67.6757,-123.3835\"/>\n",
       "<polygon fill=\"#000000\" stroke=\"#000000\" points=\"70.4663,-121.2664 61.8739,-115.0677 64.7254,-125.2717 70.4663,-121.2664\"/>\n",
       "<text text-anchor=\"middle\" x=\"57.4908\" y=\"-135.4805\" font-family=\"Times,serif\" font-size=\"14.00\" fill=\"#000000\">True</text>\n",
       "</g>\n",
       "<!-- 2 -->\n",
       "<g id=\"node3\" class=\"node\">\n",
       "<title>2</title>\n",
       "<polygon fill=\"#9ccef2\" stroke=\"#000000\" points=\"221.8067,-122 116.7304,-122 116.7304,-72 221.8067,-72 221.8067,-122\"/>\n",
       "<text text-anchor=\"middle\" x=\"169.2686\" y=\"-106.8\" font-family=\"Times,serif\" font-size=\"14.00\" fill=\"#000000\">X[1] &lt;= 5.348</text>\n",
       "<text text-anchor=\"middle\" x=\"169.2686\" y=\"-92.8\" font-family=\"Times,serif\" font-size=\"14.00\" fill=\"#000000\">samples = 75</text>\n",
       "<text text-anchor=\"middle\" x=\"169.2686\" y=\"-78.8\" font-family=\"Times,serif\" font-size=\"14.00\" fill=\"#000000\">value = [25, 50]</text>\n",
       "</g>\n",
       "<!-- 0&#45;&gt;2 -->\n",
       "<g id=\"edge2\" class=\"edge\">\n",
       "<title>0&#45;&gt;2</title>\n",
       "<path fill=\"none\" stroke=\"#000000\" d=\"M126.946,-157.6623C132.8662,-149.1767 139.5613,-139.5803 145.8505,-130.5658\"/>\n",
       "<polygon fill=\"#000000\" stroke=\"#000000\" points=\"148.866,-132.3605 151.7174,-122.1566 143.1251,-128.3552 148.866,-132.3605\"/>\n",
       "<text text-anchor=\"middle\" x=\"156.1005\" y=\"-142.5694\" font-family=\"Times,serif\" font-size=\"14.00\" fill=\"#000000\">False</text>\n",
       "</g>\n",
       "<!-- 3 -->\n",
       "<g id=\"node4\" class=\"node\">\n",
       "<title>3</title>\n",
       "<polygon fill=\"#399de5\" stroke=\"#000000\" points=\"159.3067,-36 61.2304,-36 61.2304,0 159.3067,0 159.3067,-36\"/>\n",
       "<text text-anchor=\"middle\" x=\"110.2686\" y=\"-20.8\" font-family=\"Times,serif\" font-size=\"14.00\" fill=\"#000000\">samples = 50</text>\n",
       "<text text-anchor=\"middle\" x=\"110.2686\" y=\"-6.8\" font-family=\"Times,serif\" font-size=\"14.00\" fill=\"#000000\">value = [0, 50]</text>\n",
       "</g>\n",
       "<!-- 2&#45;&gt;3 -->\n",
       "<g id=\"edge3\" class=\"edge\">\n",
       "<title>2&#45;&gt;3</title>\n",
       "<path fill=\"none\" stroke=\"#000000\" d=\"M150.2758,-71.5691C143.7406,-62.8185 136.414,-53.0083 129.834,-44.1978\"/>\n",
       "<polygon fill=\"#000000\" stroke=\"#000000\" points=\"132.5924,-42.042 123.8043,-36.1242 126.9839,-46.2307 132.5924,-42.042\"/>\n",
       "</g>\n",
       "<!-- 4 -->\n",
       "<g id=\"node5\" class=\"node\">\n",
       "<title>4</title>\n",
       "<polygon fill=\"#e58139\" stroke=\"#000000\" points=\"276.3067,-36 178.2304,-36 178.2304,0 276.3067,0 276.3067,-36\"/>\n",
       "<text text-anchor=\"middle\" x=\"227.2686\" y=\"-20.8\" font-family=\"Times,serif\" font-size=\"14.00\" fill=\"#000000\">samples = 25</text>\n",
       "<text text-anchor=\"middle\" x=\"227.2686\" y=\"-6.8\" font-family=\"Times,serif\" font-size=\"14.00\" fill=\"#000000\">value = [25, 0]</text>\n",
       "</g>\n",
       "<!-- 2&#45;&gt;4 -->\n",
       "<g id=\"edge4\" class=\"edge\">\n",
       "<title>2&#45;&gt;4</title>\n",
       "<path fill=\"none\" stroke=\"#000000\" d=\"M187.9394,-71.5691C194.3638,-62.8185 201.5662,-53.0083 208.0347,-44.1978\"/>\n",
       "<polygon fill=\"#000000\" stroke=\"#000000\" points=\"210.8654,-46.2564 213.9622,-36.1242 205.2228,-42.1137 210.8654,-46.2564\"/>\n",
       "</g>\n",
       "</g>\n",
       "</svg>\n"
      ],
      "text/plain": [
       "<graphviz.files.Source at 0x11b3505d0>"
      ]
     },
     "metadata": {},
     "output_type": "display_data"
    },
    {
     "data": {
      "image/png": "[encoded data removed]",
      "text/plain": [
       "<Figure size 432x288 with 1 Axes>"
      ]
     },
     "metadata": {},
     "output_type": "display_data"
    }
   ],
   "source": [
    "tree = mglearn.plots.plot_tree_not_monotone()\n",
    "display(tree)"
   ]
  },
  {
   "cell_type": "code",
   "execution_count": 9,
   "metadata": {},
   "outputs": [
    {
     "data": {
      "text/plain": [
       "Text(0, 0.5, 'Price in $/Mbyte')"
      ]
     },
     "execution_count": 9,
     "metadata": {},
     "output_type": "execute_result"
    },
    {
     "data": {
      "image/png": "[encoded data removed]",
      "text/plain": [
       "<Figure size 432x288 with 1 Axes>"
      ]
     },
     "metadata": {
      "needs_background": "light"
     },
     "output_type": "display_data"
    }
   ],
   "source": [
    "# decision tree regressor\n",
    "import os\n",
    "import pandas as pd\n",
    "ram_prices = pd.read_csv(os.path.join(mglearn.datasets.DATA_PATH, 'ram_price.csv'))\n",
    "\n",
    "plt.semilogy(ram_prices.date, ram_prices.price)\n",
    "plt.xlabel('Year')\n",
    "plt.ylabel('Price in $/Mbyte')"
   ]
  },
  {
   "cell_type": "code",
   "execution_count": 10,
   "metadata": {},
   "outputs": [],
   "source": [
    "from sklearn.tree import DecisionTreeRegressor\n",
    "from sklearn.linear_model import LinearRegression\n",
    "\n",
    "# use historical data to forecast prices after the year 2000\n",
    "data_train = ram_prices[ram_prices.date < 2000]\n",
    "data_test = ram_prices[ram_prices.date >= 2000]\n",
    "\n",
    "# predict prices based on date\n",
    "# 1d array to column vector\n",
    "X_train = data_train.date[:, np.newaxis]    \n",
    "# we use a log-transform to get a simpler relationship of data to target\n",
    "y_train = np.log(data_train.price)\n",
    "\n",
    "tree = DecisionTreeRegressor().fit(X_train, y_train)\n",
    "linear_reg = LinearRegression().fit(X_train, y_train)\n",
    "\n",
    "# predict on all data\n",
    "X_all = ram_prices.date[:, np.newaxis]\n",
    "\n",
    "pred_tree = tree.predict(X_all)\n",
    "pred_lr = linear_reg.predict(X_all)\n",
    "\n",
    "# undo log-transform\n",
    "price_tree = np.exp(pred_tree)\n",
    "price_lr = np.exp(pred_lr)"
   ]
  },
  {
   "cell_type": "code",
   "execution_count": 11,
   "metadata": {},
   "outputs": [
    {
     "data": {
      "text/plain": [
       "<matplotlib.legend.Legend at 0x11b3d9950>"
      ]
     },
     "execution_count": 11,
     "metadata": {},
     "output_type": "execute_result"
    },
    {
     "data": {
      "image/png": "[encoded data removed]",
      "text/plain": [
       "<Figure size 432x288 with 1 Axes>"
      ]
     },
     "metadata": {
      "needs_background": "light"
     },
     "output_type": "display_data"
    }
   ],
   "source": [
    "plt.semilogy(data_train.date, data_train.price, label='Training data')\n",
    "plt.semilogy(data_test.date, data_test.price, label='Test data')\n",
    "plt.semilogy(ram_prices.date, price_tree, label='Tree prediction')\n",
    "plt.semilogy(ram_prices.date, price_lr, label='Linear Prediction')\n",
    "plt.legend()\n"
   ]
  },
  {
   "cell_type": "code",
   "execution_count": null,
   "metadata": {},
   "outputs": [],
   "source": []
  }
 ],
 "metadata": {
  "kernelspec": {
   "display_name": "Python 3",
   "language": "python",
   "name": "python3"
  },
  "language_info": {
   "codemirror_mode": {
    "name": "ipython",
    "version": 3
   },
   "file_extension": ".py",
   "mimetype": "text/x-python",
   "name": "python",
   "nbconvert_exporter": "python",
   "pygments_lexer": "ipython3",
   "version": "3.7.4"
  }
 },
 "nbformat": 4,
 "nbformat_minor": 2
}
